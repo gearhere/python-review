{
 "cells": [
  {
   "cell_type": "markdown",
   "metadata": {
    "toc": true
   },
   "source": [
    "<h1>Table of Contents<span class=\"tocSkip\"></span></h1>\n",
    "<div class=\"toc\"><ul class=\"toc-item\"><li><span><a href=\"#代码格式\" data-toc-modified-id=\"代码格式-1\"><span class=\"toc-item-num\">1&nbsp;&nbsp;</span>代码格式</a></span></li><li><span><a href=\"#String\" data-toc-modified-id=\"String-2\"><span class=\"toc-item-num\">2&nbsp;&nbsp;</span>String</a></span></li><li><span><a href=\"#List\" data-toc-modified-id=\"List-3\"><span class=\"toc-item-num\">3&nbsp;&nbsp;</span>List</a></span><ul class=\"toc-item\"><li><span><a href=\"#修改列表元素-append,-insert\" data-toc-modified-id=\"修改列表元素-append,-insert-3.1\"><span class=\"toc-item-num\">3.1&nbsp;&nbsp;</span>修改列表元素 append, insert</a></span></li><li><span><a href=\"#删除列表元素-del,-pop,-remove\" data-toc-modified-id=\"删除列表元素-del,-pop,-remove-3.2\"><span class=\"toc-item-num\">3.2&nbsp;&nbsp;</span>删除列表元素 del, pop, remove</a></span></li><li><span><a href=\"#排序-sort,-sorted,-reverse\" data-toc-modified-id=\"排序-sort,-sorted,-reverse-3.3\"><span class=\"toc-item-num\">3.3&nbsp;&nbsp;</span>排序 sort, sorted, reverse</a></span></li><li><span><a href=\"#len,-index\" data-toc-modified-id=\"len,-index-3.4\"><span class=\"toc-item-num\">3.4&nbsp;&nbsp;</span>len, index</a></span></li><li><span><a href=\"#遍历\" data-toc-modified-id=\"遍历-3.5\"><span class=\"toc-item-num\">3.5&nbsp;&nbsp;</span>遍历</a></span></li><li><span><a href=\"#数字列表\" data-toc-modified-id=\"数字列表-3.6\"><span class=\"toc-item-num\">3.6&nbsp;&nbsp;</span>数字列表</a></span><ul class=\"toc-item\"><li><span><a href=\"#列表解析\" data-toc-modified-id=\"列表解析-3.6.1\"><span class=\"toc-item-num\">3.6.1&nbsp;&nbsp;</span>列表解析</a></span></li></ul></li><li><span><a href=\"#切片\" data-toc-modified-id=\"切片-3.7\"><span class=\"toc-item-num\">3.7&nbsp;&nbsp;</span>切片</a></span><ul class=\"toc-item\"><li><span><a href=\"#复制列表\" data-toc-modified-id=\"复制列表-3.7.1\"><span class=\"toc-item-num\">3.7.1&nbsp;&nbsp;</span>复制列表</a></span></li></ul></li><li><span><a href=\"#Tuple\" data-toc-modified-id=\"Tuple-3.8\"><span class=\"toc-item-num\">3.8&nbsp;&nbsp;</span>Tuple</a></span></li></ul></li><li><span><a href=\"#if\" data-toc-modified-id=\"if-4\"><span class=\"toc-item-num\">4&nbsp;&nbsp;</span>if</a></span></li><li><span><a href=\"#Dictionary\" data-toc-modified-id=\"Dictionary-5\"><span class=\"toc-item-num\">5&nbsp;&nbsp;</span>Dictionary</a></span><ul class=\"toc-item\"><li><span><a href=\"#遍历\" data-toc-modified-id=\"遍历-5.1\"><span class=\"toc-item-num\">5.1&nbsp;&nbsp;</span>遍历</a></span></li><li><span><a href=\"#嵌套\" data-toc-modified-id=\"嵌套-5.2\"><span class=\"toc-item-num\">5.2&nbsp;&nbsp;</span>嵌套</a></span></li></ul></li><li><span><a href=\"#input(),-while\" data-toc-modified-id=\"input(),-while-6\"><span class=\"toc-item-num\">6&nbsp;&nbsp;</span>input(), while</a></span><ul class=\"toc-item\"><li><span><a href=\"#标志\" data-toc-modified-id=\"标志-6.1\"><span class=\"toc-item-num\">6.1&nbsp;&nbsp;</span>标志</a></span></li><li><span><a href=\"#break-&amp;-continue\" data-toc-modified-id=\"break-&amp;-continue-6.2\"><span class=\"toc-item-num\">6.2&nbsp;&nbsp;</span>break &amp; continue</a></span></li><li><span><a href=\"#while处理list、dictionary\" data-toc-modified-id=\"while处理list、dictionary-6.3\"><span class=\"toc-item-num\">6.3&nbsp;&nbsp;</span>while处理list、dictionary</a></span><ul class=\"toc-item\"><li><span><a href=\"#列表间移动元素\" data-toc-modified-id=\"列表间移动元素-6.3.1\"><span class=\"toc-item-num\">6.3.1&nbsp;&nbsp;</span>列表间移动元素</a></span></li><li><span><a href=\"#删除包含特定值的所有列表元素\" data-toc-modified-id=\"删除包含特定值的所有列表元素-6.3.2\"><span class=\"toc-item-num\">6.3.2&nbsp;&nbsp;</span>删除包含特定值的所有列表元素</a></span></li><li><span><a href=\"#使用输入填充字典\" data-toc-modified-id=\"使用输入填充字典-6.3.3\"><span class=\"toc-item-num\">6.3.3&nbsp;&nbsp;</span>使用输入填充字典</a></span></li></ul></li></ul></li><li><span><a href=\"#Function\" data-toc-modified-id=\"Function-7\"><span class=\"toc-item-num\">7&nbsp;&nbsp;</span>Function</a></span><ul class=\"toc-item\"><li><span><a href=\"#实参和形参\" data-toc-modified-id=\"实参和形参-7.1\"><span class=\"toc-item-num\">7.1&nbsp;&nbsp;</span>实参和形参</a></span></li><li><span><a href=\"#位置实参-&amp;-关键字实参\" data-toc-modified-id=\"位置实参-&amp;-关键字实参-7.2\"><span class=\"toc-item-num\">7.2&nbsp;&nbsp;</span>位置实参 &amp; 关键字实参</a></span><ul class=\"toc-item\"><li><span><a href=\"#禁止函数修改列表\" data-toc-modified-id=\"禁止函数修改列表-7.2.1\"><span class=\"toc-item-num\">7.2.1&nbsp;&nbsp;</span>禁止函数修改列表</a></span></li><li><span><a href=\"#传递任意数量的实参\" data-toc-modified-id=\"传递任意数量的实参-7.2.2\"><span class=\"toc-item-num\">7.2.2&nbsp;&nbsp;</span>传递任意数量的实参</a></span></li></ul></li></ul></li><li><span><a href=\"#Class\" data-toc-modified-id=\"Class-8\"><span class=\"toc-item-num\">8&nbsp;&nbsp;</span>Class</a></span><ul class=\"toc-item\"><li><span><a href=\"#修改实例属性\" data-toc-modified-id=\"修改实例属性-8.1\"><span class=\"toc-item-num\">8.1&nbsp;&nbsp;</span>修改实例属性</a></span></li><li><span><a href=\"#继承\" data-toc-modified-id=\"继承-8.2\"><span class=\"toc-item-num\">8.2&nbsp;&nbsp;</span>继承</a></span><ul class=\"toc-item\"><li><span><a href=\"#重写父类方法\" data-toc-modified-id=\"重写父类方法-8.2.1\"><span class=\"toc-item-num\">8.2.1&nbsp;&nbsp;</span>重写父类方法</a></span></li><li><span><a href=\"#将实例用作属性\" data-toc-modified-id=\"将实例用作属性-8.2.2\"><span class=\"toc-item-num\">8.2.2&nbsp;&nbsp;</span>将实例用作属性</a></span></li></ul></li></ul></li><li><span><a href=\"#文件和异常\" data-toc-modified-id=\"文件和异常-9\"><span class=\"toc-item-num\">9&nbsp;&nbsp;</span>文件和异常</a></span><ul class=\"toc-item\"><li><span><a href=\"#读取数据\" data-toc-modified-id=\"读取数据-9.1\"><span class=\"toc-item-num\">9.1&nbsp;&nbsp;</span>读取数据</a></span><ul class=\"toc-item\"><li><span><a href=\"#注意事项\" data-toc-modified-id=\"注意事项-9.1.1\"><span class=\"toc-item-num\">9.1.1&nbsp;&nbsp;</span>注意事项</a></span></li><li><span><a href=\"#逐行读取\" data-toc-modified-id=\"逐行读取-9.1.2\"><span class=\"toc-item-num\">9.1.2&nbsp;&nbsp;</span>逐行读取</a></span></li></ul></li><li><span><a href=\"#写入文件\" data-toc-modified-id=\"写入文件-9.2\"><span class=\"toc-item-num\">9.2&nbsp;&nbsp;</span>写入文件</a></span><ul class=\"toc-item\"><li><span><a href=\"#写入空文件/覆盖\" data-toc-modified-id=\"写入空文件/覆盖-9.2.1\"><span class=\"toc-item-num\">9.2.1&nbsp;&nbsp;</span>写入空文件/覆盖</a></span></li><li><span><a href=\"#添加内容\" data-toc-modified-id=\"添加内容-9.2.2\"><span class=\"toc-item-num\">9.2.2&nbsp;&nbsp;</span>添加内容</a></span></li></ul></li><li><span><a href=\"#异常-try-expect\" data-toc-modified-id=\"异常-try-expect-9.3\"><span class=\"toc-item-num\">9.3&nbsp;&nbsp;</span>异常 try-expect</a></span></li><li><span><a href=\"#存储数据\" data-toc-modified-id=\"存储数据-9.4\"><span class=\"toc-item-num\">9.4&nbsp;&nbsp;</span>存储数据</a></span></li><li><span><a href=\"#重构\" data-toc-modified-id=\"重构-9.5\"><span class=\"toc-item-num\">9.5&nbsp;&nbsp;</span>重构</a></span></li></ul></li><li><span><a href=\"#测试代码\" data-toc-modified-id=\"测试代码-10\"><span class=\"toc-item-num\">10&nbsp;&nbsp;</span>测试代码</a></span><ul class=\"toc-item\"><li><span><a href=\"#测试函数\" data-toc-modified-id=\"测试函数-10.1\"><span class=\"toc-item-num\">10.1&nbsp;&nbsp;</span>测试函数</a></span></li><li><span><a href=\"#测试类\" data-toc-modified-id=\"测试类-10.2\"><span class=\"toc-item-num\">10.2&nbsp;&nbsp;</span>测试类</a></span><ul class=\"toc-item\"><li><span><a href=\"#断言方法\" data-toc-modified-id=\"断言方法-10.2.1\"><span class=\"toc-item-num\">10.2.1&nbsp;&nbsp;</span>断言方法</a></span></li></ul></li></ul></li></ul></div>"
   ]
  },
  {
   "cell_type": "markdown",
   "metadata": {},
   "source": [
    "https://python.org/\n",
    "\n"
   ]
  },
  {
   "cell_type": "markdown",
   "metadata": {},
   "source": [
    "## 代码格式\n",
    "Python Enhancement Proposal(Python改进提案)\n",
    "\n",
    "[PEP8](https://python.org/dev/peps/pep-008/)\n",
    "\n",
    "- 每级缩进4个空格\n",
    "- 每行不超过80字符\n",
    "- 注释行长不超过72字符\n",
    "\n",
    "VS code：搜索标尺，更改setting.json如下：\n",
    "```\n",
    "    \"editor.rulers\": [\n",
    "        80,60\n",
    "    ]\n",
    "```\n",
    "\n",
    "notepad++：设置 -> 首选项 -> 显示列边界 -> 边界宽度80  -> 边界线模式or背景色模式\n",
    "\n",
    "变量名慎用小写字母l，大写字母O，以字母或下划线打头，不能用数字打头"
   ]
  },
  {
   "cell_type": "markdown",
   "metadata": {},
   "source": [
    "## String"
   ]
  },
  {
   "cell_type": "code",
   "execution_count": 56,
   "metadata": {},
   "outputs": [
    {
     "name": "stdout",
     "output_type": "stream",
     "text": [
      "ADAM SMITH\n",
      "adam smith\n",
      "Adam Smith\n"
     ]
    }
   ],
   "source": [
    "name = 'adam smith'\n",
    "print(name.upper())\n",
    "print(name.lower())\n",
    "print(name.title())"
   ]
  },
  {
   "cell_type": "code",
   "execution_count": 79,
   "metadata": {},
   "outputs": [
    {
     "name": "stdout",
     "output_type": "stream",
     "text": [
      "I love, python ,emm\n",
      "I love,python ,emm\n",
      "I love, python,emm\n",
      "hello, python\n",
      "hello,python\n"
     ]
    }
   ],
   "source": [
    "language = ' python '\n",
    "print('I love,' + language + ',emm')\n",
    "print('I love,' + language.lstrip() + ',emm')\n",
    "print('I love,' + language.rstrip() + ',emm')\n",
    "\n",
    "print('hello,' + ' python')\n",
    "print('hello,' + ' python'.lstrip())"
   ]
  },
  {
   "cell_type": "markdown",
   "metadata": {},
   "source": [
    "## List"
   ]
  },
  {
   "cell_type": "markdown",
   "metadata": {},
   "source": [
    "### 修改列表元素 append, insert"
   ]
  },
  {
   "cell_type": "code",
   "execution_count": 46,
   "metadata": {},
   "outputs": [
    {
     "name": "stdout",
     "output_type": "stream",
     "text": [
      "['honda', 'suzuki']\n"
     ]
    }
   ],
   "source": [
    "motorcycles = []\n",
    "\n",
    "motorcycles.append('honda')\n",
    "motorcycles.append('suzuki')\n",
    "\n",
    "print(motorcycles)"
   ]
  },
  {
   "cell_type": "code",
   "execution_count": 47,
   "metadata": {},
   "outputs": [
    {
     "name": "stdout",
     "output_type": "stream",
     "text": [
      "['ducati', 'honda', 'suzuki']\n",
      "['ducati', 'honda', 'yamaha', 'suzuki']\n"
     ]
    }
   ],
   "source": [
    "motorcycles.insert(0, 'ducati')\n",
    "print(motorcycles)\n",
    "\n",
    "motorcycles.insert(-1,'yamaha')\n",
    "print(motorcycles)"
   ]
  },
  {
   "cell_type": "markdown",
   "metadata": {},
   "source": [
    "### 删除列表元素 del, pop, remove"
   ]
  },
  {
   "cell_type": "code",
   "execution_count": 48,
   "metadata": {},
   "outputs": [
    {
     "name": "stdout",
     "output_type": "stream",
     "text": [
      "['honda', 'yamaha', 'suzuki']\n"
     ]
    }
   ],
   "source": [
    "del motorcycles[0]\n",
    "print(motorcycles)"
   ]
  },
  {
   "cell_type": "code",
   "execution_count": 49,
   "metadata": {},
   "outputs": [
    {
     "name": "stdout",
     "output_type": "stream",
     "text": [
      "['honda', 'yamaha']\n",
      "suzuki\n",
      "['yamaha']\n",
      "honda\n"
     ]
    }
   ],
   "source": [
    "popped_motorcycle = motorcycles.pop()\n",
    "print(motorcycles)\n",
    "print(popped_motorcycle)\n",
    "\n",
    "popped_motorcycle = motorcycles.pop(0)\n",
    "print(motorcycles)\n",
    "print(popped_motorcycle)"
   ]
  },
  {
   "cell_type": "code",
   "execution_count": 54,
   "metadata": {},
   "outputs": [
    {
     "name": "stdout",
     "output_type": "stream",
     "text": [
      "['yamaha']\n"
     ]
    }
   ],
   "source": [
    "motorcycles.append('yamaha')\n",
    "motorcycles.remove('yamaha') # remove()仅删除第一个指定的值，删除重复出现的值需要用循环\n",
    "print(motorcycles)"
   ]
  },
  {
   "cell_type": "markdown",
   "metadata": {},
   "source": [
    "### 排序 sort, sorted, reverse"
   ]
  },
  {
   "cell_type": "code",
   "execution_count": 93,
   "metadata": {},
   "outputs": [
    {
     "name": "stdout",
     "output_type": "stream",
     "text": [
      "['audi', 'bmw', 'subaru', 'toyota']\n",
      "None\n",
      "['toyota', 'subaru', 'bmw', 'audi']\n"
     ]
    }
   ],
   "source": [
    "cars = ['bmw', 'audi', 'toyota', 'subaru']\n",
    "cars.sort()\n",
    "print(cars)\n",
    "print(cars.sort()) # why?\n",
    "\n",
    "cars.sort(reverse=True)\n",
    "print(cars)"
   ]
  },
  {
   "cell_type": "code",
   "execution_count": 102,
   "metadata": {},
   "outputs": [
    {
     "name": "stdout",
     "output_type": "stream",
     "text": [
      "['toyota', 'subaru', 'bmw', 'audi']\n"
     ]
    }
   ],
   "source": [
    "print(sorted(cars, reverse=True))\n",
    "# print(cars.sorted()) 'list' object has no attribute 'sorted'"
   ]
  },
  {
   "cell_type": "code",
   "execution_count": 104,
   "metadata": {},
   "outputs": [
    {
     "name": "stdout",
     "output_type": "stream",
     "text": [
      "['toyota', 'subaru', 'bmw', 'audi']\n"
     ]
    }
   ],
   "source": [
    "cars.reverse() #仅仅反转元素排列顺序，和字母顺序无关\n",
    "print(cars)"
   ]
  },
  {
   "cell_type": "markdown",
   "metadata": {},
   "source": [
    "###  len, index"
   ]
  },
  {
   "cell_type": "code",
   "execution_count": 105,
   "metadata": {},
   "outputs": [
    {
     "data": {
      "text/plain": [
       "1"
      ]
     },
     "execution_count": 105,
     "metadata": {},
     "output_type": "execute_result"
    }
   ],
   "source": [
    "len(motorcycles)"
   ]
  },
  {
   "cell_type": "code",
   "execution_count": 52,
   "metadata": {},
   "outputs": [
    {
     "data": {
      "text/plain": [
       "0"
      ]
     },
     "execution_count": 52,
     "metadata": {},
     "output_type": "execute_result"
    }
   ],
   "source": [
    "motorcycles.index('yamaha')"
   ]
  },
  {
   "cell_type": "markdown",
   "metadata": {},
   "source": [
    "### 遍历"
   ]
  },
  {
   "cell_type": "code",
   "execution_count": 116,
   "metadata": {},
   "outputs": [
    {
     "name": "stdout",
     "output_type": "stream",
     "text": [
      "I can't wait to see your next trick,Alice!\n",
      "\n",
      "I can't wait to see your next trick,David!\n",
      "\n",
      "I can't wait to see your next trick,Carolina!\n",
      "\n",
      "Thank you, everyone!\n"
     ]
    }
   ],
   "source": [
    "# 使用单数和复数式名称有助判断处理的是列表元素还是整个列表\n",
    "magicians = ['alice', 'david', 'carolina']\n",
    "for magician in magicians:\n",
    "    print(\"I can't wait to see your next trick,\" + magician.title() + \"!\\n\")\n",
    "\n",
    "print(\"Thank you, everyone!\")"
   ]
  },
  {
   "cell_type": "markdown",
   "metadata": {},
   "source": [
    "### 数字列表"
   ]
  },
  {
   "cell_type": "code",
   "execution_count": 117,
   "metadata": {},
   "outputs": [
    {
     "name": "stdout",
     "output_type": "stream",
     "text": [
      "1\n",
      "2\n",
      "3\n",
      "4\n"
     ]
    }
   ],
   "source": [
    "for value in range(1,5):\n",
    "    print(value)"
   ]
  },
  {
   "cell_type": "code",
   "execution_count": 146,
   "metadata": {},
   "outputs": [
    {
     "name": "stdout",
     "output_type": "stream",
     "text": [
      "range(1, 3)\n",
      "[range(1, 3)]\n",
      "[1, 3, 5]\n"
     ]
    }
   ],
   "source": [
    "numbers = range(1,3)\n",
    "print(numbers)\n",
    "\n",
    "numbers = [range(1,3)]\n",
    "print(numbers)\n",
    "\n",
    "numbers = list(range(1,6,2))\n",
    "print(numbers)"
   ]
  },
  {
   "cell_type": "code",
   "execution_count": 18,
   "metadata": {},
   "outputs": [
    {
     "name": "stdout",
     "output_type": "stream",
     "text": [
      "[1, 4, 9, 16, 25, 36, 49, 64, 81, 100]\n"
     ]
    }
   ],
   "source": [
    "squares = []\n",
    "for value in range(1,11):\n",
    "    square = value**2\n",
    "    squares.append(square)\n",
    "\n",
    "print(squares)"
   ]
  },
  {
   "cell_type": "code",
   "execution_count": 19,
   "metadata": {},
   "outputs": [
    {
     "name": "stdout",
     "output_type": "stream",
     "text": [
      "The biggest number is 1,\n",
      "and the smallest number is 100.\n"
     ]
    }
   ],
   "source": [
    "print(\"The biggest number is \" + str(min(squares)) + \",\\nand the smallest number is \" + str(max(squares)) + \".\")"
   ]
  },
  {
   "cell_type": "markdown",
   "metadata": {},
   "source": [
    "#### 列表解析"
   ]
  },
  {
   "cell_type": "code",
   "execution_count": 149,
   "metadata": {},
   "outputs": [
    {
     "name": "stdout",
     "output_type": "stream",
     "text": [
      "[1, 4, 9, 16, 25, 36, 49, 64, 81, 100]\n"
     ]
    }
   ],
   "source": [
    "suqares = [value**2 for value in range(1,11)]\n",
    "print(squares)"
   ]
  },
  {
   "cell_type": "markdown",
   "metadata": {},
   "source": [
    "### 切片"
   ]
  },
  {
   "cell_type": "code",
   "execution_count": 151,
   "metadata": {},
   "outputs": [
    {
     "name": "stdout",
     "output_type": "stream",
     "text": [
      "Here are the first three players on my team:\n",
      "Charles\n",
      "Martina\n",
      "Michael\n"
     ]
    }
   ],
   "source": [
    "players = ['charles', 'martina', 'michael', 'florence', 'eli']\n",
    "\n",
    "print(\"Here are the first three players on my team:\")\n",
    "for player in players[:3]:\n",
    "    print(player.title())"
   ]
  },
  {
   "cell_type": "markdown",
   "metadata": {},
   "source": [
    "#### 复制列表"
   ]
  },
  {
   "cell_type": "code",
   "execution_count": 2,
   "metadata": {},
   "outputs": [
    {
     "name": "stdout",
     "output_type": "stream",
     "text": [
      "['pizza', 'falafel', 'carrot cake']\n"
     ]
    }
   ],
   "source": [
    "my_foods = ['pizza', 'falafel', 'carrot cake']\n",
    "friend_foods = my_foods[:]\n",
    "# wrong operation: friend_foods = my_foods\n",
    "# 这与python的数据储存方式有关\n",
    "\n",
    "print(friend_foods)"
   ]
  },
  {
   "cell_type": "markdown",
   "metadata": {},
   "source": [
    "### Tuple"
   ]
  },
  {
   "cell_type": "code",
   "execution_count": 5,
   "metadata": {},
   "outputs": [
    {
     "name": "stdout",
     "output_type": "stream",
     "text": [
      "(400, 100)\n"
     ]
    }
   ],
   "source": [
    "# 元组的元素不能修改，但可以重新给存储元组的变量赋值\n",
    "dimensions = (200, 50)\n",
    "dimensions = (400, 100)\n",
    "print(dimensions)"
   ]
  },
  {
   "cell_type": "markdown",
   "metadata": {},
   "source": [
    "## if"
   ]
  },
  {
   "cell_type": "code",
   "execution_count": 12,
   "metadata": {},
   "outputs": [
    {
     "data": {
      "text/plain": [
       "True"
      ]
     },
     "execution_count": 12,
     "metadata": {},
     "output_type": "execute_result"
    }
   ],
   "source": [
    "requested_toppings = ['mushrooms', 'onions', 'pineapple']\n",
    "'mushrooms' in requested_toppings"
   ]
  },
  {
   "cell_type": "code",
   "execution_count": 14,
   "metadata": {},
   "outputs": [
    {
     "data": {
      "text/plain": [
       "False"
      ]
     },
     "execution_count": 14,
     "metadata": {},
     "output_type": "execute_result"
    }
   ],
   "source": [
    "'onions' not in requested_toppings"
   ]
  },
  {
   "cell_type": "markdown",
   "metadata": {},
   "source": [
    "条件测试 & 布尔表达式"
   ]
  },
  {
   "cell_type": "markdown",
   "metadata": {},
   "source": [
    "测试一个条件：if-else-elif（有一个测试通过后，会跳过余下的测试）"
   ]
  },
  {
   "cell_type": "markdown",
   "metadata": {},
   "source": [
    "测试多个条件：if"
   ]
  },
  {
   "cell_type": "code",
   "execution_count": 16,
   "metadata": {},
   "outputs": [
    {
     "name": "stdout",
     "output_type": "stream",
     "text": [
      "Adding mushrooms.\n",
      "Adding onions.\n",
      "Adding pineapple.\n",
      "\n",
      "Finished making ur pizza!\n"
     ]
    }
   ],
   "source": [
    "if requested_toppings: # 检查列表是否为空\n",
    "    for requested_topping in requested_toppings:\n",
    "        print(\"Adding \" + requested_topping + \".\")\n",
    "    print(\"\\nFinished making ur pizza!\")\n",
    "else:\n",
    "    print(\"R u sure u want a plain pizza?\")"
   ]
  },
  {
   "cell_type": "markdown",
   "metadata": {},
   "source": [
    "## Dictionary"
   ]
  },
  {
   "cell_type": "markdown",
   "metadata": {},
   "source": [
    "字典既可以储存一个对象的多种信息，也可以用来储存多个对象的同一种信息。"
   ]
  },
  {
   "cell_type": "code",
   "execution_count": 28,
   "metadata": {},
   "outputs": [
    {
     "name": "stdout",
     "output_type": "stream",
     "text": [
      "red\n"
     ]
    }
   ],
   "source": [
    "alien_0 = {'color':('green','red'), 'points':'5'}\n",
    "print(alien_0['color'][1])"
   ]
  },
  {
   "cell_type": "code",
   "execution_count": 36,
   "metadata": {},
   "outputs": [
    {
     "name": "stdout",
     "output_type": "stream",
     "text": [
      "{'y_position': 5, 'color': 'blue', 'x_position': 0}\n"
     ]
    }
   ],
   "source": [
    "alien_1 = {}\n",
    "alien_1['x_position'] = 0\n",
    "alien_1['y_position'] = 5\n",
    "alien_1['color'] = 'blue'\n",
    "print(alien_1) # python不关心键-值对的添加顺序，只关心键-值之间的关联关系"
   ]
  },
  {
   "cell_type": "code",
   "execution_count": 40,
   "metadata": {},
   "outputs": [
    {
     "name": "stdout",
     "output_type": "stream",
     "text": [
      "The alien is now yellow.\n"
     ]
    }
   ],
   "source": [
    "alien_1['color'] = 'yellow'\n",
    "print(\"The alien is now \" + alien_1['color'] + \".\")"
   ]
  },
  {
   "cell_type": "code",
   "execution_count": 41,
   "metadata": {},
   "outputs": [
    {
     "name": "stdout",
     "output_type": "stream",
     "text": [
      "{'y_position': 5, 'color': 'yellow'}\n"
     ]
    }
   ],
   "source": [
    "del alien_1['x_position']\n",
    "print(alien_1)"
   ]
  },
  {
   "cell_type": "code",
   "execution_count": 43,
   "metadata": {
    "collapsed": true
   },
   "outputs": [],
   "source": [
    "favorite_languages = {\n",
    "    'jen ': 'python',\n",
    "    'sarah': 'c',\n",
    "    'edward': 'ruby',\n",
    "    'phil': 'python',    # 在最后一个键-值对后面也加上逗号，为添加下一行做好准备\n",
    "    }    "
   ]
  },
  {
   "cell_type": "markdown",
   "metadata": {},
   "source": [
    "### 遍历"
   ]
  },
  {
   "cell_type": "code",
   "execution_count": 51,
   "metadata": {},
   "outputs": [
    {
     "name": "stdout",
     "output_type": "stream",
     "text": [
      "\n",
      "Name: Edward\n",
      "Language:Ruby\n",
      "\n",
      "Name: Phil\n",
      "Language:Python\n",
      "\n",
      "Name: Sarah\n",
      "Language:C\n",
      "\n",
      "Name: Jen \n",
      "Language:Python\n"
     ]
    }
   ],
   "source": [
    "for name, language in favorite_languages.items():\n",
    "    print(\"\\nName: \" + name.title())\n",
    "    print(\"Language:\" + language.title())"
   ]
  },
  {
   "cell_type": "code",
   "execution_count": 66,
   "metadata": {},
   "outputs": [
    {
     "name": "stdout",
     "output_type": "stream",
     "text": [
      "EDWARD\n",
      "PHIL\n",
      "SARAH\n",
      "JEN \n",
      "\n",
      "\n",
      "edward\n",
      "phil\n",
      "sarah\n",
      "jen \n",
      "\n",
      "\n",
      "Edward\n",
      "Jen \n",
      "Phil\n",
      "Sarah\n"
     ]
    }
   ],
   "source": [
    "# keys()返回一个列表，包含字典中所有的键\n",
    "for name in favorite_languages.keys():\n",
    "    print(name.upper())\n",
    "\n",
    "print(\"\\n\")\n",
    "    \n",
    "# 遍历字典时，默认遍历所有的键\n",
    "for name in favorite_languages:\n",
    "    print(name)\n",
    "\n",
    "print(\"\\n\")\n",
    "    \n",
    "# 按特定顺序返回列表\n",
    "for name in sorted(favorite_languages):\n",
    "    print(name.title())"
   ]
  },
  {
   "cell_type": "code",
   "execution_count": 77,
   "metadata": {},
   "outputs": [
    {
     "name": "stdout",
     "output_type": "stream",
     "text": [
      "C\n",
      "Python\n",
      "Ruby\n"
     ]
    }
   ],
   "source": [
    "# set()剔除重复元素\n",
    "for language in sorted(set(favorite_languages.values())):\n",
    "    print(language.title())"
   ]
  },
  {
   "cell_type": "markdown",
   "metadata": {},
   "source": [
    "### 嵌套"
   ]
  },
  {
   "cell_type": "code",
   "execution_count": 81,
   "metadata": {},
   "outputs": [
    {
     "name": "stdout",
     "output_type": "stream",
     "text": [
      "{'color': ('green', 'red'), 'points': '5'}\n",
      "{'y_position': 5, 'color': 'yellow'}\n",
      "{'color': 'blue', 'points': 5}\n"
     ]
    }
   ],
   "source": [
    "alien_2 = {\n",
    "    'color':'blue',\n",
    "    'points':5,\n",
    "    }\n",
    "\n",
    "alines = [alien_0, alien_1, alien_2]\n",
    "\n",
    "for alien in alines:\n",
    "    print(alien)"
   ]
  },
  {
   "cell_type": "code",
   "execution_count": 88,
   "metadata": {},
   "outputs": [
    {
     "name": "stdout",
     "output_type": "stream",
     "text": [
      "{'color': 'green', 'points': 5, 'number': 0}\n",
      "{'color': 'green', 'points': 5, 'number': 1}\n",
      "{'color': 'green', 'points': 5, 'number': 2}\n",
      "{'color': 'green', 'points': 5, 'number': 3}\n",
      "{'color': 'green', 'points': 5, 'number': 4}\n",
      "{'color': 'green', 'points': 5, 'number': 5}\n",
      "{'color': 'green', 'points': 5, 'number': 6}\n",
      "{'color': 'green', 'points': 5, 'number': 7}\n",
      "{'color': 'green', 'points': 5, 'number': 8}\n",
      "{'color': 'green', 'points': 5, 'number': 9}\n",
      "\n",
      "There are 10 green aliens.\n"
     ]
    }
   ],
   "source": [
    "aliens = []\n",
    "\n",
    "for alien_number in range(10):\n",
    "    new_alien = {'number': alien_number,\n",
    "                'color': 'green',\n",
    "                'points': 5,\n",
    "                }\n",
    "    aliens.append(new_alien)\n",
    "    print(new_alien)\n",
    "    \n",
    "print(\"\\nThere are 10 green aliens.\")"
   ]
  },
  {
   "cell_type": "markdown",
   "metadata": {},
   "source": [
    "**列表和字典的嵌套层级不宜太多。**"
   ]
  },
  {
   "cell_type": "code",
   "execution_count": 89,
   "metadata": {},
   "outputs": [
    {
     "data": {
      "text/plain": [
       "'curie'"
      ]
     },
     "execution_count": 89,
     "metadata": {},
     "output_type": "execute_result"
    }
   ],
   "source": [
    "users = {\n",
    "    'mcurie': {\n",
    "        'first': 'marie',\n",
    "        'last': 'curie',\n",
    "        'location': 'paris',\n",
    "    },\n",
    "}\n",
    "\n",
    "users['mcurie']['last']"
   ]
  },
  {
   "cell_type": "markdown",
   "metadata": {},
   "source": [
    "## input(), while"
   ]
  },
  {
   "cell_type": "code",
   "execution_count": 7,
   "metadata": {},
   "outputs": [
    {
     "name": "stdout",
     "output_type": "stream",
     "text": [
      "If you tell us who you are, we can personalize yje message you see.\n",
      "What is your first name? Klein\n",
      "Hello, Klein!\n"
     ]
    }
   ],
   "source": [
    "prompt = \"If you tell us who you are, we can personalize yje message you see.\\n\"\n",
    "prompt += \"What is your first name? \"\n",
    "\n",
    "name = input(prompt)\n",
    "print(\"Hello, \" + name + \"!\" )"
   ]
  },
  {
   "cell_type": "markdown",
   "metadata": {},
   "source": [
    "### 标志"
   ]
  },
  {
   "cell_type": "code",
   "execution_count": 1,
   "metadata": {
    "scrolled": true
   },
   "outputs": [
    {
     "name": "stdout",
     "output_type": "stream",
     "text": [
      "Tell me sth and I will repeat it back to u:\n",
      "Enter 'quit' to end the program. I love u 3 thousand times.\n",
      "I love u 3 thousand times.\n",
      "Tell me sth and I will repeat it back to u:\n",
      "Enter 'quit' to end the program. quit\n"
     ]
    }
   ],
   "source": [
    "prompt = \"Tell me sth and I will repeat it back to u:\\n\"\n",
    "prompt += \"Enter 'quit' to end the program. \"\n",
    "message = \"\"\n",
    "\n",
    "active = True   # 标志可以简化while语句，将逻辑比较放在下面进行\n",
    "while active:\n",
    "    message = input(prompt)\n",
    "    \n",
    "    if message == \"quit\":\n",
    "        active = False\n",
    "    else:\n",
    "        print(message)"
   ]
  },
  {
   "cell_type": "markdown",
   "metadata": {},
   "source": [
    "### break & continue"
   ]
  },
  {
   "cell_type": "code",
   "execution_count": 2,
   "metadata": {},
   "outputs": [
    {
     "name": "stdout",
     "output_type": "stream",
     "text": [
      "Please enter the name o a city you have visited:\n",
      "(Enther 'quit' when you are finished.) Shanghai\n",
      "I'd love to go to Shanghai.\n",
      "Please enter the name o a city you have visited:\n",
      "(Enther 'quit' when you are finished.) quit\n"
     ]
    }
   ],
   "source": [
    "prompt = \"Please enter the name o a city you have visited:\\n\"\n",
    "prompt += \"(Enther 'quit' when you are finished.) \"\n",
    "\n",
    "while True:\n",
    "    city = input(prompt)\n",
    "    \n",
    "    if city == 'quit':\n",
    "        break\n",
    "    else:\n",
    "        print(\"I'd love to go to \" + city.title() + \".\")"
   ]
  },
  {
   "cell_type": "code",
   "execution_count": 4,
   "metadata": {},
   "outputs": [
    {
     "name": "stdout",
     "output_type": "stream",
     "text": [
      "1\n",
      "3\n",
      "5\n",
      "7\n",
      "9\n"
     ]
    }
   ],
   "source": [
    "current_number = 0\n",
    "while current_number <10:\n",
    "    current_number += 1\n",
    "    if current_number % 2 == 0:\n",
    "        continue\n",
    "        \n",
    "    print(current_number)"
   ]
  },
  {
   "cell_type": "markdown",
   "metadata": {},
   "source": [
    "### while处理list、dictionary"
   ]
  },
  {
   "cell_type": "markdown",
   "metadata": {},
   "source": [
    "for循环适用于不修改列表的遍历，while循环可进行收集、储存并组织大量输入。"
   ]
  },
  {
   "cell_type": "markdown",
   "metadata": {},
   "source": [
    "#### 列表间移动元素"
   ]
  },
  {
   "cell_type": "code",
   "execution_count": 8,
   "metadata": {},
   "outputs": [
    {
     "name": "stdout",
     "output_type": "stream",
     "text": [
      "Verifying user: Candace\n",
      "Verifying user: Brian\n",
      "Verifying user: Alice\n",
      "\n",
      "The following users have been confirmed:\n",
      "Candace\n",
      "Brian\n",
      "Alice\n"
     ]
    }
   ],
   "source": [
    "unconfirmed_users = ['alice', 'brian', 'candace']\n",
    "confirmed_users = []\n",
    "\n",
    "while unconfirmed_users:\n",
    "    current_user = unconfirmed_users.pop()\n",
    "    \n",
    "    print(\"Verifying user: \" + current_user.title())\n",
    "    confirmed_users.append(current_user)\n",
    "    \n",
    "print(\"\\nThe following users have been confirmed:\")\n",
    "for confirmed_user in confirmed_users:\n",
    "    print(confirmed_user.title())"
   ]
  },
  {
   "cell_type": "markdown",
   "metadata": {},
   "source": [
    "#### 删除包含特定值的所有列表元素"
   ]
  },
  {
   "cell_type": "code",
   "execution_count": 10,
   "metadata": {},
   "outputs": [
    {
     "name": "stdout",
     "output_type": "stream",
     "text": [
      "['dog', 'cat', 'goldfish', 'cat', 'rabbit', 'cat']\n",
      "['dog', 'goldfish', 'rabbit']\n"
     ]
    }
   ],
   "source": [
    "pets = ['dog', 'cat', 'goldfish', 'cat', 'rabbit', 'cat']\n",
    "print(pets)\n",
    "\n",
    "while 'cat' in pets:\n",
    "    pets.remove('cat')\n",
    "    \n",
    "print(pets)"
   ]
  },
  {
   "cell_type": "markdown",
   "metadata": {},
   "source": [
    "#### 使用输入填充字典"
   ]
  },
  {
   "cell_type": "code",
   "execution_count": 15,
   "metadata": {
    "scrolled": true
   },
   "outputs": [
    {
     "name": "stdout",
     "output_type": "stream",
     "text": [
      "\n",
      "What is ur name? 克莱喵\n",
      "Which mountain would u like to climb someday? 霍纳奇斯\n",
      "\n",
      "Would u like another person respond?(yes/no) no\n",
      "\n",
      "--- Poll Results ---\n",
      "克莱喵 would like to climb 霍纳奇斯.\n"
     ]
    }
   ],
   "source": [
    "responses = {}\n",
    "\n",
    "polling_active = True\n",
    "\n",
    "while polling_active:\n",
    "    name = input(\"\\nWhat is ur name? \")\n",
    "    response = input(\"Which mountain would u like to climb someday? \")\n",
    "    \n",
    "    responses[name] = response\n",
    "    \n",
    "    repeat = input(\"\\nWould u like another person respond?(yes/no) \")\n",
    "    if repeat == 'no':\n",
    "        polling_active = False\n",
    "\n",
    "#     ------------------------------------------------------------------------- #\n",
    "#     用continue也可以实现\n",
    "#     repeat = input(\"\\nWould u like another person respond?(yes/no) \")\n",
    "#     if repeat != 'no':\n",
    "#         continue\n",
    "#     else:\n",
    "#         polling_active = False\n",
    "#     ------------------------------------------------------------------------- #\n",
    "\n",
    "print(\"\\n--- Poll Results ---\")\n",
    "for name, response in responses.items():\n",
    "    print(name + \" would like to climb \" + response + \".\")"
   ]
  },
  {
   "cell_type": "markdown",
   "metadata": {},
   "source": [
    "## Function"
   ]
  },
  {
   "cell_type": "markdown",
   "metadata": {},
   "source": [
    "### 实参和形参"
   ]
  },
  {
   "cell_type": "code",
   "execution_count": 17,
   "metadata": {},
   "outputs": [
    {
     "name": "stdout",
     "output_type": "stream",
     "text": [
      "Jesse\n"
     ]
    }
   ],
   "source": [
    "def greet_user(username):     # 形参username\n",
    "    print(username.title())\n",
    "    \n",
    "greet_user('jesse')           # 实参'jesse'"
   ]
  },
  {
   "cell_type": "markdown",
   "metadata": {},
   "source": [
    "### 位置实参 & 关键字实参"
   ]
  },
  {
   "cell_type": "markdown",
   "metadata": {},
   "source": [
    "调用函数时，Python必须将函数调用中的每个实参都关联函数定义中的一个形参。为此，最简单的关联方式是基于实参的顺序。这种关联方式被称为*位置实参*。"
   ]
  },
  {
   "cell_type": "code",
   "execution_count": 22,
   "metadata": {},
   "outputs": [
    {
     "name": "stdout",
     "output_type": "stream",
     "text": [
      "\n",
      "I have a harry.\n",
      "My harry's name is Hamster.\n"
     ]
    }
   ],
   "source": [
    "def describe_pet(animal_type, pet_name):\n",
    "    print(\"\\nI have a \" + animal_type + \".\")\n",
    "    print(\"My \" + animal_type + \"'s name is \" + pet_name.title() + \".\")\n",
    "    \n",
    "describe_pet('harry', 'hamster')            #  注意位置实参顺序给反了"
   ]
  },
  {
   "cell_type": "markdown",
   "metadata": {},
   "source": [
    "**non-default argument必须在default argument前**"
   ]
  },
  {
   "cell_type": "code",
   "execution_count": 25,
   "metadata": {},
   "outputs": [
    {
     "name": "stdout",
     "output_type": "stream",
     "text": [
      "\n",
      "I have a hamster.\n",
      "My hamster's name is Harry.\n"
     ]
    }
   ],
   "source": [
    "def describe_pet(pet_name, animal_type='hamster'):    # non-default argument必须在default argument前，指定默认值时两边不要有空格\n",
    "    print(\"\\nI have a \" + animal_type + \".\")\n",
    "    print(\"My \" + animal_type + \"'s name is \" + pet_name.title() + \".\")\n",
    "    \n",
    "describe_pet(pet_name='harry')           # 关键字实参，两边也不要有空格"
   ]
  },
  {
   "cell_type": "code",
   "execution_count": 28,
   "metadata": {},
   "outputs": [
    {
     "name": "stdout",
     "output_type": "stream",
     "text": [
      "Jimi Hendrix\n",
      "John Lee Hooker\n"
     ]
    }
   ],
   "source": [
    "def get_formatted_name(first_name, last_name, middle_name=''):   # 使中间名作为可选的形参\n",
    "\n",
    "    if middle_name:\n",
    "        full_name = first_name + ' ' +  middle_name + ' ' + last_name\n",
    "    else:\n",
    "        full_name = first_name + ' ' + last_name\n",
    "    return full_name.title()\n",
    "    \n",
    "musician = get_formatted_name('jimi', 'hendrix')\n",
    "print(musician)\n",
    "\n",
    "musician = get_formatted_name('john', 'hooker', 'lee')\n",
    "print(musician)"
   ]
  },
  {
   "cell_type": "markdown",
   "metadata": {},
   "source": [
    "在函数中使用for遍历，可以将列表储存至形参中，从而将列表传递给函数。\n",
    "\n",
    "每个函数都应只负责一项具体的工作。"
   ]
  },
  {
   "cell_type": "markdown",
   "metadata": {},
   "source": [
    "#### 禁止函数修改列表"
   ]
  },
  {
   "cell_type": "markdown",
   "metadata": {},
   "source": [
    "像函数传递列表的副本而不是原件"
   ]
  },
  {
   "cell_type": "markdown",
   "metadata": {},
   "source": [
    "`function_name(list_name[:])`"
   ]
  },
  {
   "cell_type": "markdown",
   "metadata": {},
   "source": [
    "#### 传递任意数量的实参"
   ]
  },
  {
   "cell_type": "code",
   "execution_count": 38,
   "metadata": {},
   "outputs": [
    {
     "name": "stdout",
     "output_type": "stream",
     "text": [
      "('mushrooms', 'green peppers', 'extra cheese')\n",
      "-mushrooms\n",
      "-green peppers\n",
      "-extra cheese\n"
     ]
    }
   ],
   "source": [
    "def make_pizza(*toppings):         # *可以接收任意数量的实参\n",
    "    print(toppings)\n",
    "    for topping in toppings:\n",
    "        print(\"-\" + topping)\n",
    "\n",
    "make_pizza('mushrooms', 'green peppers', 'extra cheese')"
   ]
  },
  {
   "cell_type": "markdown",
   "metadata": {},
   "source": [
    "\\*创建了一个空元组，并将收到的所有值都封装到这个元组中。"
   ]
  },
  {
   "cell_type": "markdown",
   "metadata": {},
   "source": [
    "如果要让函数接受不同类型的实参，必须在函数定义中将接纳任意数量实参的形参放在最后，Python会先匹配位置实参和关键字实参，再将余下的实参都收集到最后一个形参中。"
   ]
  },
  {
   "cell_type": "markdown",
   "metadata": {},
   "source": [
    "**使用任意数量的关键字实参 使用\\*\\***"
   ]
  },
  {
   "cell_type": "code",
   "execution_count": 2,
   "metadata": {},
   "outputs": [
    {
     "name": "stdout",
     "output_type": "stream",
     "text": [
      "{'location': 'princeton', 'last_name': 'einstein', 'field': 'physics', 'first_name': 'albert'}\n"
     ]
    }
   ],
   "source": [
    "def build_profile(first, last, **user_info):   # user_info是空字典，能将收到的所有名称-值对都封装到这个字典中，如下面的location，field\n",
    "    profile = {}\n",
    "    profile['first_name'] = first\n",
    "    profile['last_name'] = last\n",
    "    for key, value in user_info.items():\n",
    "        profile[key] = value                   # 将收到的所有名称-值对从user_info转移到profile中\n",
    "    return profile\n",
    "\n",
    "user_profile = build_profile('albert', 'einstein', location='princeton', field='physics')\n",
    "print(user_profile)"
   ]
  },
  {
   "cell_type": "markdown",
   "metadata": {},
   "source": [
    "## Class"
   ]
  },
  {
   "cell_type": "code",
   "execution_count": 15,
   "metadata": {
    "collapsed": true
   },
   "outputs": [],
   "source": [
    " class Dog():                                # 根据约定，首字母大写的名称指的是类\n",
    "        \n",
    "        def __init__(self, name, age):       # 类中的方法称为函数\n",
    "            self.name = name                 # self指的是类实例对象本身\n",
    "            self.age = age\n",
    "            \n",
    "        def sit(self):\n",
    "            print(self.name.title() + \" is now sitting.\")\n",
    "        \n",
    "        def roll_over(self):\n",
    "            print(self.name.title() + \"rolled over!\")"
   ]
  },
  {
   "cell_type": "markdown",
   "metadata": {},
   "source": [
    "**Q:**\n",
    "- 对象/实例方法\n",
    "- 类方法\n",
    "- 静态方法"
   ]
  },
  {
   "cell_type": "code",
   "execution_count": 18,
   "metadata": {},
   "outputs": [
    {
     "name": "stdout",
     "output_type": "stream",
     "text": [
      "willie\n",
      "Willie is now sitting.\n",
      "Willierolled over!\n"
     ]
    }
   ],
   "source": [
    "my_dog = Dog('willie', '6')\n",
    "\n",
    "print(my_dog.name)                          # 访问属性\n",
    "my_dog.sit()                                # 调用方法\n",
    "my_dog.roll_over()"
   ]
  },
  {
   "cell_type": "markdown",
   "metadata": {},
   "source": [
    "### 修改实例属性"
   ]
  },
  {
   "cell_type": "code",
   "execution_count": 2,
   "metadata": {},
   "outputs": [
    {
     "name": "stdout",
     "output_type": "stream",
     "text": [
      "2016 Audi A4\n",
      "This car has 0 miles on it.\n"
     ]
    }
   ],
   "source": [
    "class Car():\n",
    "    \n",
    "    def __init__(self, make, model, year):\n",
    "        self.make = make\n",
    "        self.model = model\n",
    "        self.year = year\n",
    "        self.odometer_reading = 0\n",
    "    \n",
    "    def get_descriptive_name(self):\n",
    "        long_name = str(self.year) + ' ' + self.make + ' ' + self.model\n",
    "        return long_name.title()\n",
    "    \n",
    "    def read_odometer(self):\n",
    "        print(\"This car has \" + str(self.odometer_reading) + \" miles on it.\")\n",
    "        \n",
    "    def update_odometer(self, mileage):\n",
    "        if mileage >= self.odometer_reading:\n",
    "            self.odometer_reading = mileage\n",
    "        else:\n",
    "            print(\"You can't roll ban an odometer!\")\n",
    "    \n",
    "my_new_car = Car('audi', 'a4', 2016)\n",
    "print(my_new_car.get_descriptive_name())\n",
    "my_new_car.read_odometer()"
   ]
  },
  {
   "cell_type": "code",
   "execution_count": 3,
   "metadata": {},
   "outputs": [
    {
     "name": "stdout",
     "output_type": "stream",
     "text": [
      "This car has 24 miles on it.\n",
      "24\n"
     ]
    }
   ],
   "source": [
    "# 直接修改属性的值\n",
    "# 直接赋值即可\n",
    "\n",
    "# 通过方法修改属性的值\n",
    "my_new_car.update_odometer(24)\n",
    "my_new_car.read_odometer()\n",
    "print(my_new_car.odometer_reading)"
   ]
  },
  {
   "cell_type": "markdown",
   "metadata": {},
   "source": [
    "### 继承"
   ]
  },
  {
   "cell_type": "code",
   "execution_count": 4,
   "metadata": {},
   "outputs": [
    {
     "name": "stdout",
     "output_type": "stream",
     "text": [
      "70\n"
     ]
    }
   ],
   "source": [
    "# 父类为Car，下面创建子类进行继承\n",
    "\n",
    "class ElectricCar(Car):                                      # 指定父类名称\n",
    "    \n",
    "    def __init__(self, make, model, year, battery_size):\n",
    "        super().__init__(make, model, year)                  # 父类也称为超类（super class）\n",
    "        self.battery_size = battery_size                     # 给子类添加属性\n",
    "\n",
    "my_tesla = ElectricCar('tesla', 'model s', 2016, 70)\n",
    "print(my_tesla.battery_size)"
   ]
  },
  {
   "cell_type": "markdown",
   "metadata": {},
   "source": [
    "#### 重写父类方法"
   ]
  },
  {
   "cell_type": "markdown",
   "metadata": {},
   "source": [
    "直接在子类中重写即可"
   ]
  },
  {
   "cell_type": "markdown",
   "metadata": {},
   "source": [
    "#### 将实例用作属性"
   ]
  },
  {
   "cell_type": "code",
   "execution_count": 3,
   "metadata": {
    "collapsed": true
   },
   "outputs": [],
   "source": [
    "class Battery():\n",
    "    \n",
    "    def __init__(self, battery_size=70):\n",
    "        self.battery_size = battery_size\n",
    "    \n",
    "    def describe_battery(self):\n",
    "        print(\"This car has a \" + str(self.battery_size) + \"-kwh battery.\")"
   ]
  },
  {
   "cell_type": "code",
   "execution_count": 8,
   "metadata": {},
   "outputs": [
    {
     "name": "stdout",
     "output_type": "stream",
     "text": [
      "What's the size of your battery(1-100)? 30\n",
      "This car has a 30.0-kwh battery.\n"
     ]
    }
   ],
   "source": [
    "class ElectricCar(Car):\n",
    "    \n",
    "    def __init__(self, make, model, year):\n",
    "        super().__init__(make, model, year)\n",
    "        try:\n",
    "            self.battery = my_battery        \n",
    "        except NameError:\n",
    "            size = float(input(\"What's the size of your battery(1-100)? \"))\n",
    "            self.battery = Battery(size)\n",
    "\n",
    "# ------------------------------------------------------ #\n",
    "# 想要添加的功能：\n",
    "# 用户不知道size时使用默认实参\n",
    "#             self.battery = Battery()\n",
    "#             print(\"You are using the default battery!\")\n",
    "#         else:\n",
    "#             self.battery = my_battery\n",
    "# ------------------------------------------------------ #\n",
    "\n",
    "# my_battery = Battery(100)\n",
    "my_tesla = ElectricCar('tesla', 'model s', 2016)\n",
    "# my_tesla.battery.battery_size\n",
    "my_tesla.battery.describe_battery()"
   ]
  },
  {
   "cell_type": "markdown",
   "metadata": {},
   "source": [
    "## 文件和异常"
   ]
  },
  {
   "cell_type": "markdown",
   "metadata": {},
   "source": [
    "### 读取数据"
   ]
  },
  {
   "cell_type": "code",
   "execution_count": 7,
   "metadata": {
    "scrolled": false
   },
   "outputs": [
    {
     "name": "stdout",
     "output_type": "stream",
     "text": [
      "3.1415926535\n",
      "  8979323846\n",
      "  2643383279\n"
     ]
    }
   ],
   "source": [
    "with open('pi_digits.txt') as file_object:      # with在不再需要访问文件后将其关闭\n",
    "    contents = file_object.read()\n",
    "    print(contents)"
   ]
  },
  {
   "cell_type": "markdown",
   "metadata": {},
   "source": [
    "#### 注意事项\n",
    "\n",
    "- windows系统中，文件路径使用反斜杠(\\)\n",
    "\n",
    "- 可以使用一个变量储存较长的绝对路径\n",
    "\n",
    "- 反斜杠在Python中被视为转义标记，在windows中，应以原始字符串的方式指定路径，即在路径开头的单引号前加上r\n",
    "\n",
    "- 读取文本文件时，Python将所有文本都读取为字符串"
   ]
  },
  {
   "cell_type": "markdown",
   "metadata": {},
   "source": [
    "#### 逐行读取"
   ]
  },
  {
   "cell_type": "code",
   "execution_count": 11,
   "metadata": {},
   "outputs": [
    {
     "name": "stdout",
     "output_type": "stream",
     "text": [
      "3.1415926535\n",
      "  8979323846\n",
      "  2643383279\n"
     ]
    }
   ],
   "source": [
    "filename = 'pi_digits.txt'\n",
    "\n",
    "with open(filename) as file_object:\n",
    "    for line in file_object:\n",
    "        print(line.rstrip())"
   ]
  },
  {
   "cell_type": "code",
   "execution_count": 24,
   "metadata": {},
   "outputs": [
    {
     "name": "stdout",
     "output_type": "stream",
     "text": [
      "['3.1415926535\\n', '  8979323846\\n', '  2643383279']\n",
      "\n",
      "\n",
      "3.1415926535\n",
      "  8979323846\n",
      "  2643383279\n",
      "\n",
      "\n",
      "3.141592653589793238462643383279\n"
     ]
    }
   ],
   "source": [
    "with open(filename) as file_object:\n",
    "    lines = file_object.readlines()\n",
    "    \n",
    "print(lines)\n",
    "print('\\n')\n",
    "pi_string = ''\n",
    "\n",
    "for line in lines:\n",
    "    print(line.rstrip())\n",
    "    pi_string += line.strip()\n",
    "\n",
    "print('\\n')\n",
    "print(pi_string)"
   ]
  },
  {
   "cell_type": "markdown",
   "metadata": {},
   "source": [
    "### 写入文件"
   ]
  },
  {
   "cell_type": "markdown",
   "metadata": {},
   "source": [
    "#### 写入空文件/覆盖"
   ]
  },
  {
   "cell_type": "code",
   "execution_count": 29,
   "metadata": {
    "collapsed": true
   },
   "outputs": [],
   "source": [
    "filename = 'programming.txt'\n",
    "\n",
    "with open(filename, 'w') as file_object:              # 'w'写入模式，会清空原文件进行写入，即覆盖原本内容\n",
    "    file_object.write(\"I love programming.\")           # Python只能将字符串写入文本文件"
   ]
  },
  {
   "cell_type": "markdown",
   "metadata": {},
   "source": [
    "#### 添加内容"
   ]
  },
  {
   "cell_type": "code",
   "execution_count": 30,
   "metadata": {
    "collapsed": true
   },
   "outputs": [],
   "source": [
    "with open(filename, 'a') as file_object: \n",
    "    file_object.write(\"\\nI love Python.\")"
   ]
  },
  {
   "cell_type": "markdown",
   "metadata": {},
   "source": [
    "### 异常 try-expect"
   ]
  },
  {
   "cell_type": "code",
   "execution_count": 52,
   "metadata": {
    "scrolled": true
   },
   "outputs": [
    {
     "name": "stdout",
     "output_type": "stream",
     "text": [
      "Give me two numbers, and I'll divide them.\n",
      "Enter 'q' to quit.\n",
      "\n",
      "First number: 0\n",
      "Second number:0\n",
      "You can't divide by zero!\n",
      "\n",
      "First number: 1\n",
      "Second number:2\n",
      "0.5\n",
      "\n",
      "First number: q\n"
     ]
    }
   ],
   "source": [
    "print(\"Give me two numbers, and I'll divide them.\")\n",
    "print(\"Enter 'q' to quit.\" )\n",
    "\n",
    "while True:\n",
    "    first_number = input(\"\\nFirst number: \")\n",
    "    if first_number == 'q':\n",
    "        break\n",
    "    second_number = input(\"Second number:\")\n",
    "    if second_number == 'q':\n",
    "        breakk\n",
    "    try:\n",
    "        answer = int(first_number)/ int(second_number)\n",
    "    except ZeroDivisionError:\n",
    "        print(\"You can't divide by zero!\")\n",
    "    else:\n",
    "        print(answer)"
   ]
  },
  {
   "cell_type": "code",
   "execution_count": 9,
   "metadata": {},
   "outputs": [
    {
     "name": "stdout",
     "output_type": "stream",
     "text": [
      "Give me two numbers, and I'll divide them.\n",
      "Enter 'q' to quit.\n",
      "\n",
      "First number: 0\n",
      "Second number:0\n",
      "\n",
      "First number: 2\n",
      "Second number:3\n",
      "0.6666666666666666\n",
      "\n",
      "First number: q\n"
     ]
    }
   ],
   "source": [
    "# 出现异常不做任何处理可使用pass\n",
    "\n",
    "print(\"Give me two numbers, and I'll divide them.\")\n",
    "print(\"Enter 'q' to quit.\" )\n",
    "\n",
    "while True:\n",
    "    first_number = input(\"\\nFirst number: \")\n",
    "    if first_number == 'q':\n",
    "        break\n",
    "    second_number = input(\"Second number:\")\n",
    "    if second_number == 'q':\n",
    "        breakk\n",
    "    try:\n",
    "        answer = int(first_number)/ int(second_number)\n",
    "    except ZeroDivisionError:\n",
    "        pass\n",
    "    else:\n",
    "        print(answer)"
   ]
  },
  {
   "cell_type": "markdown",
   "metadata": {},
   "source": [
    "当程序依赖于外部因素，如用户输入、存在指定的文件、有网络连接，就可能出现异常。"
   ]
  },
  {
   "cell_type": "markdown",
   "metadata": {},
   "source": [
    "### 存储数据"
   ]
  },
  {
   "cell_type": "markdown",
   "metadata": {},
   "source": [
    "json模块\n",
    "\n",
    "JSON (JavaScript Object Notation)\n",
    "\n",
    "**Q:**\n",
    "\n",
    "常用JSON储存哪些数据？"
   ]
  },
  {
   "cell_type": "code",
   "execution_count": 1,
   "metadata": {
    "collapsed": true
   },
   "outputs": [],
   "source": [
    "import json"
   ]
  },
  {
   "cell_type": "code",
   "execution_count": 8,
   "metadata": {
    "collapsed": true
   },
   "outputs": [],
   "source": [
    "numbers = [2, 3, 5, 7, 11, 13]\n",
    "\n",
    "filename = 'numbers.json'\n",
    "with open(filename, 'w') as f_obj:\n",
    "    json.dump(numbers, f_obj)"
   ]
  },
  {
   "cell_type": "code",
   "execution_count": 9,
   "metadata": {},
   "outputs": [
    {
     "name": "stdout",
     "output_type": "stream",
     "text": [
      "[2, 3, 5, 7, 11, 13]\n"
     ]
    }
   ],
   "source": [
    "with open(filename) as f_obj:\n",
    "    numbers = json.load(f_obj)\n",
    "\n",
    "print(numbers)"
   ]
  },
  {
   "cell_type": "code",
   "execution_count": 17,
   "metadata": {},
   "outputs": [
    {
     "name": "stdout",
     "output_type": "stream",
     "text": [
      "Welcome back, Klein!\n"
     ]
    }
   ],
   "source": [
    "filename = 'username.json'\n",
    "try:\n",
    "    with open(filename) as f_obj:\n",
    "        username = json.load(f_obj)\n",
    "except FileNotFoundError:\n",
    "    username = input(\"What is your name? \")\n",
    "    with open(filename, 'w') as f_obj:\n",
    "        json.dump(username, f_obj)\n",
    "        print(\"We'll remember you when you come back, \" + username + \"!\")\n",
    "else:\n",
    "    print(\"Welcome back, \" + username + \"!\")"
   ]
  },
  {
   "cell_type": "markdown",
   "metadata": {},
   "source": [
    "### 重构"
   ]
  },
  {
   "cell_type": "markdown",
   "metadata": {},
   "source": [
    "> DocStrings 文档字符串是一个重要工具，用于解释文档程序，帮助你的程序文档更加简单易懂。\n",
    "\n",
    "> 我们可以在函数体的第一行使用一对三个单引号 ''' 或者一对三个双引号 \"\"\" 来定义文档字符串。\n",
    "\n",
    "> 你可以使用 __doc__（注意双下划线）调用函数中的文档字符串属性。\n",
    "\n",
    "> 使用惯例：它的首行简述函数功能，第二行空行，第三行为函数的具体描述。"
   ]
  },
  {
   "cell_type": "code",
   "execution_count": 24,
   "metadata": {
    "collapsed": true
   },
   "outputs": [],
   "source": [
    "def get_stored_username():\n",
    "    \"\"\"如果储存了用户名，就获取它\"\"\"\n",
    "    filename = 'username.json'\n",
    "    try:\n",
    "        with open(filename) as f_obj:\n",
    "            username = json.load(f_obj)\n",
    "    except FileNotFoundError:\n",
    "        return None\n",
    "    else:\n",
    "        return username"
   ]
  },
  {
   "cell_type": "code",
   "execution_count": 25,
   "metadata": {
    "collapsed": true
   },
   "outputs": [],
   "source": [
    "def get_new_username():\n",
    "    \"\"\"提示用户输入用户名\"\"\"\n",
    "    username = input(\"What is your name? \")\n",
    "    filename = 'username.json'\n",
    "    with open(filename, 'w') as f_obj:\n",
    "        json.dump(username, f_obj)\n",
    "    return username"
   ]
  },
  {
   "cell_type": "code",
   "execution_count": 28,
   "metadata": {},
   "outputs": [
    {
     "name": "stdout",
     "output_type": "stream",
     "text": [
      "What is your name? Klein\n",
      "We'll remember you when you come back, Klein!\n"
     ]
    }
   ],
   "source": [
    "def greet_user():\n",
    "    \"\"\"问候用户，并指出其名字\n",
    "    \n",
    "    调用返回信息，指出用户名字\"\"\"\n",
    "    username = get_stored_username()\n",
    "    if username:\n",
    "        print(\"Welcome back, \" + username + \"!\")\n",
    "    else:\n",
    "        username = get_new_username()\n",
    "        print(\"We'll remember you when you come back, \" + username + \"!\")\n",
    "\n",
    "greet_user()"
   ]
  },
  {
   "cell_type": "code",
   "execution_count": 29,
   "metadata": {
    "scrolled": true
   },
   "outputs": [
    {
     "name": "stdout",
     "output_type": "stream",
     "text": [
      "Welcome back, Klein!\n"
     ]
    }
   ],
   "source": [
    "greet_user()"
   ]
  },
  {
   "cell_type": "markdown",
   "metadata": {},
   "source": [
    "## 测试代码"
   ]
  },
  {
   "cell_type": "code",
   "execution_count": 45,
   "metadata": {
    "collapsed": true
   },
   "outputs": [],
   "source": [
    "def get_formatted_name(first, last):\n",
    "    \"\"\"generate neat name\"\"\"\n",
    "    full_name = first + ' ' + last\n",
    "    return full_name.title()"
   ]
  },
  {
   "cell_type": "markdown",
   "metadata": {},
   "source": [
    "### 测试函数"
   ]
  },
  {
   "cell_type": "markdown",
   "metadata": {},
   "source": [
    "单元测试 & 测试用例 & 全覆盖测试"
   ]
  },
  {
   "cell_type": "code",
   "execution_count": 3,
   "metadata": {
    "collapsed": true
   },
   "outputs": [],
   "source": [
    "import unittest"
   ]
  },
  {
   "cell_type": "markdown",
   "metadata": {},
   "source": [
    "[attributeerror-when-running-unittest-sample-in-ipy-notebook](https://stackoverflow.com/questions/25004917/attributeerror-when-running-unittest-sample-in-ipy-notebook)"
   ]
  },
  {
   "cell_type": "code",
   "execution_count": 44,
   "metadata": {
    "scrolled": false
   },
   "outputs": [
    {
     "name": "stderr",
     "output_type": "stream",
     "text": [
      ".\n",
      "----------------------------------------------------------------------\n",
      "Ran 1 test in 0.003s\n",
      "\n",
      "OK\n"
     ]
    },
    {
     "data": {
      "text/plain": [
       "<unittest.main.TestProgram at 0x1c9d15c3be0>"
      ]
     },
     "execution_count": 44,
     "metadata": {},
     "output_type": "execute_result"
    }
   ],
   "source": [
    "class NamesTestCase(unittest.TestCase):\n",
    "    \"\"\"test get_formatted_name\"\"\"\n",
    "    \n",
    "    def test_first_last_name(self):\n",
    "        \"\"\"能够正确地处理像Harry Potter这样的姓名吗？\"\"\"\n",
    "        formatted_name = get_formatted_name('harry', 'potter')\n",
    "        self.assertEqual(formatted_name, 'Harry Potter')\n",
    "\n",
    "unittest.main(argv=['first-arg-is-ignored'], exit=False)      # jupyter notebook里需要额外添加一些参数，否则会报错"
   ]
  },
  {
   "cell_type": "code",
   "execution_count": 46,
   "metadata": {
    "collapsed": true
   },
   "outputs": [],
   "source": [
    "def get_formatted_name(first, middle, last):\n",
    "    \"\"\"generate neat name\"\"\"\n",
    "    full_name = first + ' '+ middle + ' ' + last\n",
    "    return full_name.title()"
   ]
  },
  {
   "cell_type": "markdown",
   "metadata": {},
   "source": [
    "特意设置一个不能通过的测试，观察返回的信息"
   ]
  },
  {
   "cell_type": "code",
   "execution_count": 47,
   "metadata": {},
   "outputs": [
    {
     "name": "stderr",
     "output_type": "stream",
     "text": [
      "E\n",
      "======================================================================\n",
      "ERROR: test_first_last_name (__main__.NamesTestCase)\n",
      "能够正确地处理像Harry Potter这样的姓名吗？\n",
      "----------------------------------------------------------------------\n",
      "Traceback (most recent call last):\n",
      "  File \"<ipython-input-47-55d0da06128a>\", line 6, in test_first_last_name\n",
      "    formatted_name = get_formatted_name('harry', 'potter')\n",
      "TypeError: get_formatted_name() missing 1 required positional argument: 'last'\n",
      "\n",
      "----------------------------------------------------------------------\n",
      "Ran 1 test in 0.002s\n",
      "\n",
      "FAILED (errors=1)\n"
     ]
    },
    {
     "data": {
      "text/plain": [
       "<unittest.main.TestProgram at 0x1c9d15ad160>"
      ]
     },
     "execution_count": 47,
     "metadata": {},
     "output_type": "execute_result"
    }
   ],
   "source": [
    "class NamesTestCase(unittest.TestCase):\n",
    "    \"\"\"test get_formatted_name\"\"\"\n",
    "    \n",
    "    def test_first_last_name(self):\n",
    "        \"\"\"能够正确地处理像Harry Potter这样的姓名吗？\"\"\"\n",
    "        formatted_name = get_formatted_name('harry', 'potter')\n",
    "        self.assertEqual(formatted_name, 'Harry Potter')\n",
    "\n",
    "unittest.main(argv=['first-arg-is-ignored'], exit=False)      # jupyter notebook里需要额外添加一些参数，否则会报错"
   ]
  },
  {
   "cell_type": "markdown",
   "metadata": {},
   "source": [
    "### 测试类"
   ]
  },
  {
   "cell_type": "markdown",
   "metadata": {},
   "source": [
    "#### 断言方法"
   ]
  },
  {
   "cell_type": "markdown",
   "metadata": {},
   "source": [
    "|方法|用途|\n",
    "|:----:|:----:|\n",
    "|assertEqual(a, b)|a == b|\n",
    "|assertNotEqual(a, b)|a !=b|\n",
    "|assertTrue(x)|x为True|\n",
    "|assertFalse(x)|x为False|\n",
    "|assertIn(item, list)|item in list|\n",
    "|assertNoIn(item, list)|item not in list|"
   ]
  },
  {
   "cell_type": "code",
   "execution_count": 1,
   "metadata": {
    "collapsed": true
   },
   "outputs": [],
   "source": [
    "class AnonymousSurvey():\n",
    "    \"\"\"Collect anonymous answers to a survey question.\"\"\"\n",
    "    \n",
    "    def __init__(self, question):\n",
    "        \"\"\"Store a question, and prepare to store responses.\"\"\"\n",
    "        self.question = question\n",
    "        self.responses = []\n",
    "        \n",
    "    def show_question(self):\n",
    "        \"\"\"Show the survey question.\"\"\"\n",
    "        print(self.question)\n",
    "        \n",
    "    def store_response(self, new_response):\n",
    "        \"\"\"Store a single response to the survey.\"\"\"\n",
    "        self.responses.append(new_response)\n",
    "        \n",
    "    def show_results(self):\n",
    "        \"\"\"Show all the responses that have been given.\"\"\"\n",
    "        print(\"Survey results:\")\n",
    "        for response in self.responses:\n",
    "            print('- ' + response)"
   ]
  },
  {
   "cell_type": "code",
   "execution_count": 6,
   "metadata": {},
   "outputs": [
    {
     "name": "stderr",
     "output_type": "stream",
     "text": [
      ".\n",
      "----------------------------------------------------------------------\n",
      "Ran 1 test in 0.002s\n",
      "\n",
      "OK\n"
     ]
    },
    {
     "data": {
      "text/plain": [
       "<unittest.main.TestProgram at 0x1598a0c79b0>"
      ]
     },
     "execution_count": 6,
     "metadata": {},
     "output_type": "execute_result"
    }
   ],
   "source": [
    "class TestAnonymousSurvey(unittest.TestCase):\n",
    "    \n",
    "    def setUp(self):\n",
    "        question = \"What language did you first learn to speak?\"\n",
    "        self.my_survey = AnonymousSurvey(question)                               # 测试类需要创建实例\n",
    "        self.responses = ['English', 'Spanish', 'Mandarin']\n",
    "        \n",
    "        \n",
    "    def test_store_three_responses(self):\n",
    "        for response in self.responses:\n",
    "            self.my_survey.store_response(response)\n",
    "        for response in self.responses:\n",
    "            self.assertIn(response, self.my_survey.responses)\n",
    "            \n",
    "\n",
    "unittest.main(argv=['first-arg-is-ignored'], exit=False)"
   ]
  },
  {
   "cell_type": "markdown",
   "metadata": {},
   "source": [
    "> 每完成一个单元测试，Python都打印一个字符：测试通过时打印一个句点；测试引发错误时打印一个E ；测试导致断言失败时打印一个F"
   ]
  }
 ],
 "metadata": {
  "kernelspec": {
   "display_name": "Python 3",
   "language": "python",
   "name": "python3"
  },
  "language_info": {
   "codemirror_mode": {
    "name": "ipython",
    "version": 3
   },
   "file_extension": ".py",
   "mimetype": "text/x-python",
   "name": "python",
   "nbconvert_exporter": "python",
   "pygments_lexer": "ipython3",
   "version": "3.5.2"
  },
  "toc": {
   "base_numbering": 1,
   "nav_menu": {},
   "number_sections": true,
   "sideBar": true,
   "skip_h1_title": false,
   "title_cell": "Table of Contents",
   "title_sidebar": "Contents",
   "toc_cell": true,
   "toc_position": {},
   "toc_section_display": true,
   "toc_window_display": true
  }
 },
 "nbformat": 4,
 "nbformat_minor": 2
}
